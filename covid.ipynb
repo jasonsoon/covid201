{
 "cells": [
  {
   "cell_type": "markdown",
   "metadata": {},
   "source": [
    "$$- - -$$"
   ]
  },
  {
   "cell_type": "markdown",
   "metadata": {},
   "source": [
    "# COVID-19 Data"
   ]
  },
  {
   "cell_type": "code",
   "execution_count": null,
   "metadata": {},
   "outputs": [],
   "source": []
  },
  {
   "cell_type": "markdown",
   "metadata": {},
   "source": [
    "## Table of Contents\n",
    "\n",
    "### 1. Introduction\n",
    "* 1.1 Installing Packages, Loading Libraries\n",
    "* 1.2 Reading in and Cleaning the Data\n",
    "* 1.3 Background on Data Set\n",
    "* 1.4 Visualizing the Data\n",
    "\n",
    "### 2. Data Observations\n",
    "* 2.1 Exploratory Analysis\n",
    "* 2.2 Initial Observations\n",
    "\n",
    "..."
   ]
  },
  {
   "cell_type": "markdown",
   "metadata": {},
   "source": [
    "### 1.1 Installing Packages, Loading Libraries"
   ]
  },
  {
   "cell_type": "code",
   "execution_count": 5,
   "metadata": {},
   "outputs": [],
   "source": [
    "library(tidyverse)\n",
    "library(digest)\n",
    "library(repr)\n",
    "library(taxyvr)\n",
    "library(caret)\n",
    "library(grid)\n",
    "library(infer)"
   ]
  },
  {
   "cell_type": "markdown",
   "metadata": {},
   "source": [
    "### 1.2 Reading in and Cleaning the Data"
   ]
  },
  {
   "cell_type": "code",
   "execution_count": 28,
   "metadata": {},
   "outputs": [
    {
     "name": "stderr",
     "output_type": "stream",
     "text": [
      "Parsed with column specification:\n",
      "cols(\n",
      "  .default = col_double(),\n",
      "  prname = \u001b[31mcol_character()\u001b[39m,\n",
      "  prnameFR = \u001b[31mcol_character()\u001b[39m,\n",
      "  date = \u001b[34mcol_date(format = \"\")\u001b[39m,\n",
      "  update = \u001b[33mcol_logical()\u001b[39m,\n",
      "  numtests = \u001b[33mcol_logical()\u001b[39m,\n",
      "  percentrecover = \u001b[31mcol_character()\u001b[39m,\n",
      "  ratetests = \u001b[33mcol_logical()\u001b[39m,\n",
      "  numteststoday = \u001b[33mcol_logical()\u001b[39m\n",
      ")\n",
      "\n",
      "See spec(...) for full column specifications.\n",
      "\n",
      "Warning message:\n",
      "“1332 parsing failures.\n",
      " row           col           expected  actual              file\n",
      "4948 numtests      1/0/T/F/TRUE/FALSE 1710926 'covid19data.csv'\n",
      "4948 ratetests     1/0/T/F/TRUE/FALSE 332366  'covid19data.csv'\n",
      "4948 numteststoday 1/0/T/F/TRUE/FALSE 1710926 'covid19data.csv'\n",
      "4949 numtests      1/0/T/F/TRUE/FALSE 3164628 'covid19data.csv'\n",
      "4949 ratetests     1/0/T/F/TRUE/FALSE 715675  'covid19data.csv'\n",
      ".... ............. .................. ....... .................\n",
      "See problems(...) for more details.\n",
      "”\n"
     ]
    }
   ],
   "source": [
    "covid_19_data_full <- read_csv(\"covid19data.csv\", col_names = TRUE)"
   ]
  },
  {
   "cell_type": "code",
   "execution_count": 31,
   "metadata": {},
   "outputs": [
    {
     "data": {
      "text/html": [
       "<table>\n",
       "<caption>A tibble: 6 × 39</caption>\n",
       "<thead>\n",
       "\t<tr><th scope=col>pruid</th><th scope=col>prname</th><th scope=col>prnameFR</th><th scope=col>date</th><th scope=col>update</th><th scope=col>numconf</th><th scope=col>numprob</th><th scope=col>numdeaths</th><th scope=col>numtotal</th><th scope=col>numtested</th><th scope=col>⋯</th><th scope=col>numdeaths_last14</th><th scope=col>ratedeaths_last14</th><th scope=col>numtotal_last7</th><th scope=col>ratetotal_last7</th><th scope=col>numdeaths_last7</th><th scope=col>ratedeaths_last7</th><th scope=col>avgtotal_last7</th><th scope=col>avgincidence_last7</th><th scope=col>avgdeaths_last7</th><th scope=col>avgratedeaths_last7</th></tr>\n",
       "\t<tr><th scope=col>&lt;dbl&gt;</th><th scope=col>&lt;chr&gt;</th><th scope=col>&lt;chr&gt;</th><th scope=col>&lt;date&gt;</th><th scope=col>&lt;lgl&gt;</th><th scope=col>&lt;dbl&gt;</th><th scope=col>&lt;dbl&gt;</th><th scope=col>&lt;dbl&gt;</th><th scope=col>&lt;dbl&gt;</th><th scope=col>&lt;dbl&gt;</th><th scope=col>⋯</th><th scope=col>&lt;dbl&gt;</th><th scope=col>&lt;dbl&gt;</th><th scope=col>&lt;dbl&gt;</th><th scope=col>&lt;dbl&gt;</th><th scope=col>&lt;dbl&gt;</th><th scope=col>&lt;dbl&gt;</th><th scope=col>&lt;dbl&gt;</th><th scope=col>&lt;dbl&gt;</th><th scope=col>&lt;dbl&gt;</th><th scope=col>&lt;dbl&gt;</th></tr>\n",
       "</thead>\n",
       "<tbody>\n",
       "\t<tr><td>35</td><td>Ontario         </td><td>Ontario             </td><td>2020-01-31</td><td>NA</td><td>3</td><td>0</td><td>0</td><td>3</td><td>NA</td><td>⋯</td><td>NA</td><td>NA</td><td>NA</td><td>NA</td><td>NA</td><td>NA</td><td>NA</td><td>NA</td><td>NA</td><td>NA</td></tr>\n",
       "\t<tr><td>59</td><td>British Columbia</td><td>Colombie-Britannique</td><td>2020-01-31</td><td>NA</td><td>1</td><td>0</td><td>0</td><td>1</td><td>NA</td><td>⋯</td><td>NA</td><td>NA</td><td>NA</td><td>NA</td><td>NA</td><td>NA</td><td>NA</td><td>NA</td><td>NA</td><td>NA</td></tr>\n",
       "\t<tr><td> 1</td><td>Canada          </td><td>Canada              </td><td>2020-01-31</td><td>NA</td><td>4</td><td>0</td><td>0</td><td>4</td><td>NA</td><td>⋯</td><td>NA</td><td>NA</td><td>NA</td><td>NA</td><td>NA</td><td>NA</td><td>NA</td><td>NA</td><td>NA</td><td>NA</td></tr>\n",
       "\t<tr><td>35</td><td>Ontario         </td><td>Ontario             </td><td>2020-02-08</td><td>NA</td><td>3</td><td>0</td><td>0</td><td>3</td><td>NA</td><td>⋯</td><td>NA</td><td>NA</td><td>NA</td><td>NA</td><td>NA</td><td>NA</td><td>NA</td><td>NA</td><td>NA</td><td>NA</td></tr>\n",
       "\t<tr><td>59</td><td>British Columbia</td><td>Colombie-Britannique</td><td>2020-02-08</td><td>NA</td><td>4</td><td>0</td><td>0</td><td>4</td><td>NA</td><td>⋯</td><td>NA</td><td>NA</td><td>NA</td><td>NA</td><td>NA</td><td>NA</td><td>NA</td><td>NA</td><td>NA</td><td>NA</td></tr>\n",
       "\t<tr><td> 1</td><td>Canada          </td><td>Canada              </td><td>2020-02-08</td><td>NA</td><td>7</td><td>0</td><td>0</td><td>7</td><td>NA</td><td>⋯</td><td>NA</td><td>NA</td><td>NA</td><td>NA</td><td>NA</td><td>NA</td><td>NA</td><td>NA</td><td>NA</td><td>NA</td></tr>\n",
       "</tbody>\n",
       "</table>\n"
      ],
      "text/latex": [
       "A tibble: 6 × 39\n",
       "\\begin{tabular}{lllllllllllllllllllll}\n",
       " pruid & prname & prnameFR & date & update & numconf & numprob & numdeaths & numtotal & numtested & ⋯ & numdeaths\\_last14 & ratedeaths\\_last14 & numtotal\\_last7 & ratetotal\\_last7 & numdeaths\\_last7 & ratedeaths\\_last7 & avgtotal\\_last7 & avgincidence\\_last7 & avgdeaths\\_last7 & avgratedeaths\\_last7\\\\\n",
       " <dbl> & <chr> & <chr> & <date> & <lgl> & <dbl> & <dbl> & <dbl> & <dbl> & <dbl> & ⋯ & <dbl> & <dbl> & <dbl> & <dbl> & <dbl> & <dbl> & <dbl> & <dbl> & <dbl> & <dbl>\\\\\n",
       "\\hline\n",
       "\t 35 & Ontario          & Ontario              & 2020-01-31 & NA & 3 & 0 & 0 & 3 & NA & ⋯ & NA & NA & NA & NA & NA & NA & NA & NA & NA & NA\\\\\n",
       "\t 59 & British Columbia & Colombie-Britannique & 2020-01-31 & NA & 1 & 0 & 0 & 1 & NA & ⋯ & NA & NA & NA & NA & NA & NA & NA & NA & NA & NA\\\\\n",
       "\t  1 & Canada           & Canada               & 2020-01-31 & NA & 4 & 0 & 0 & 4 & NA & ⋯ & NA & NA & NA & NA & NA & NA & NA & NA & NA & NA\\\\\n",
       "\t 35 & Ontario          & Ontario              & 2020-02-08 & NA & 3 & 0 & 0 & 3 & NA & ⋯ & NA & NA & NA & NA & NA & NA & NA & NA & NA & NA\\\\\n",
       "\t 59 & British Columbia & Colombie-Britannique & 2020-02-08 & NA & 4 & 0 & 0 & 4 & NA & ⋯ & NA & NA & NA & NA & NA & NA & NA & NA & NA & NA\\\\\n",
       "\t  1 & Canada           & Canada               & 2020-02-08 & NA & 7 & 0 & 0 & 7 & NA & ⋯ & NA & NA & NA & NA & NA & NA & NA & NA & NA & NA\\\\\n",
       "\\end{tabular}\n"
      ],
      "text/markdown": [
       "\n",
       "A tibble: 6 × 39\n",
       "\n",
       "| pruid &lt;dbl&gt; | prname &lt;chr&gt; | prnameFR &lt;chr&gt; | date &lt;date&gt; | update &lt;lgl&gt; | numconf &lt;dbl&gt; | numprob &lt;dbl&gt; | numdeaths &lt;dbl&gt; | numtotal &lt;dbl&gt; | numtested &lt;dbl&gt; | ⋯ ⋯ | numdeaths_last14 &lt;dbl&gt; | ratedeaths_last14 &lt;dbl&gt; | numtotal_last7 &lt;dbl&gt; | ratetotal_last7 &lt;dbl&gt; | numdeaths_last7 &lt;dbl&gt; | ratedeaths_last7 &lt;dbl&gt; | avgtotal_last7 &lt;dbl&gt; | avgincidence_last7 &lt;dbl&gt; | avgdeaths_last7 &lt;dbl&gt; | avgratedeaths_last7 &lt;dbl&gt; |\n",
       "|---|---|---|---|---|---|---|---|---|---|---|---|---|---|---|---|---|---|---|---|---|\n",
       "| 35 | Ontario          | Ontario              | 2020-01-31 | NA | 3 | 0 | 0 | 3 | NA | ⋯ | NA | NA | NA | NA | NA | NA | NA | NA | NA | NA |\n",
       "| 59 | British Columbia | Colombie-Britannique | 2020-01-31 | NA | 1 | 0 | 0 | 1 | NA | ⋯ | NA | NA | NA | NA | NA | NA | NA | NA | NA | NA |\n",
       "|  1 | Canada           | Canada               | 2020-01-31 | NA | 4 | 0 | 0 | 4 | NA | ⋯ | NA | NA | NA | NA | NA | NA | NA | NA | NA | NA |\n",
       "| 35 | Ontario          | Ontario              | 2020-02-08 | NA | 3 | 0 | 0 | 3 | NA | ⋯ | NA | NA | NA | NA | NA | NA | NA | NA | NA | NA |\n",
       "| 59 | British Columbia | Colombie-Britannique | 2020-02-08 | NA | 4 | 0 | 0 | 4 | NA | ⋯ | NA | NA | NA | NA | NA | NA | NA | NA | NA | NA |\n",
       "|  1 | Canada           | Canada               | 2020-02-08 | NA | 7 | 0 | 0 | 7 | NA | ⋯ | NA | NA | NA | NA | NA | NA | NA | NA | NA | NA |\n",
       "\n"
      ],
      "text/plain": [
       "  pruid prname           prnameFR             date       update numconf numprob\n",
       "1 35    Ontario          Ontario              2020-01-31 NA     3       0      \n",
       "2 59    British Columbia Colombie-Britannique 2020-01-31 NA     1       0      \n",
       "3  1    Canada           Canada               2020-01-31 NA     4       0      \n",
       "4 35    Ontario          Ontario              2020-02-08 NA     3       0      \n",
       "5 59    British Columbia Colombie-Britannique 2020-02-08 NA     4       0      \n",
       "6  1    Canada           Canada               2020-02-08 NA     7       0      \n",
       "  numdeaths numtotal numtested ⋯ numdeaths_last14 ratedeaths_last14\n",
       "1 0         3        NA        ⋯ NA               NA               \n",
       "2 0         1        NA        ⋯ NA               NA               \n",
       "3 0         4        NA        ⋯ NA               NA               \n",
       "4 0         3        NA        ⋯ NA               NA               \n",
       "5 0         4        NA        ⋯ NA               NA               \n",
       "6 0         7        NA        ⋯ NA               NA               \n",
       "  numtotal_last7 ratetotal_last7 numdeaths_last7 ratedeaths_last7\n",
       "1 NA             NA              NA              NA              \n",
       "2 NA             NA              NA              NA              \n",
       "3 NA             NA              NA              NA              \n",
       "4 NA             NA              NA              NA              \n",
       "5 NA             NA              NA              NA              \n",
       "6 NA             NA              NA              NA              \n",
       "  avgtotal_last7 avgincidence_last7 avgdeaths_last7 avgratedeaths_last7\n",
       "1 NA             NA                 NA              NA                 \n",
       "2 NA             NA                 NA              NA                 \n",
       "3 NA             NA                 NA              NA                 \n",
       "4 NA             NA                 NA              NA                 \n",
       "5 NA             NA                 NA              NA                 \n",
       "6 NA             NA                 NA              NA                 "
      ]
     },
     "metadata": {},
     "output_type": "display_data"
    }
   ],
   "source": [
    "head(covid_19_data_full)"
   ]
  },
  {
   "cell_type": "markdown",
   "metadata": {},
   "source": [
    "### 1.3 Background on Data Set"
   ]
  },
  {
   "cell_type": "markdown",
   "metadata": {},
   "source": [
    "Source: \n",
    "* https://health-infobase.canada.ca/covid-19/dashboard/\n",
    "* https://health-infobase.canada.ca/covid-19/dashboard/about.html\n"
   ]
  },
  {
   "cell_type": "code",
   "execution_count": null,
   "metadata": {},
   "outputs": [],
   "source": []
  },
  {
   "cell_type": "code",
   "execution_count": null,
   "metadata": {},
   "outputs": [],
   "source": []
  },
  {
   "cell_type": "code",
   "execution_count": 33,
   "metadata": {},
   "outputs": [
    {
     "data": {
      "text/plain": [
       "     pruid          prname            prnameFR              date           \n",
       " Min.   : 1.00   Length:5412        Length:5412        Min.   :2020-01-31  \n",
       " 1st Qu.:12.00   Class :character   Class :character   1st Qu.:2020-06-05  \n",
       " Median :46.00   Mode  :character   Mode  :character   Median :2020-09-03  \n",
       " Mean   :39.12                                         Mean   :2020-09-02  \n",
       " 3rd Qu.:60.00                                         3rd Qu.:2020-12-02  \n",
       " Max.   :99.00                                         Max.   :2021-03-02  \n",
       "                                                                           \n",
       "   update           numconf          numprob          numdeaths    \n",
       " Mode :logical   Min.   :     0   Min.   :  0.000   Min.   :    0  \n",
       " FALSE:94        1st Qu.:    27   1st Qu.:  0.000   1st Qu.:    0  \n",
       " TRUE :803       Median :   408   Median :  0.000   Median :    7  \n",
       " NA's :4515      Mean   : 34799   Mean   :  1.213   Mean   : 1339  \n",
       "                 3rd Qu.: 18322   3rd Qu.:  0.000   3rd Qu.:  323  \n",
       "                 Max.   :872747   Max.   :833.000   Max.   :22045  \n",
       "                                                    NA's   :119    \n",
       "    numtotal          numtested        numtests         numrecover      \n",
       " Min.   :     0.0   Min.   :       0   Mode:logical   Min.   :     0.0  \n",
       " 1st Qu.:    27.0   1st Qu.:    4464   NA's:5412      1st Qu.:    32.8  \n",
       " Median :   413.5   Median :   57292                  Median :   604.0  \n",
       " Mean   : 34799.7   Mean   :  837614                  Mean   : 32431.9  \n",
       " 3rd Qu.: 18321.8   3rd Qu.:  374122                  3rd Qu.: 17669.5  \n",
       " Max.   :872747.0   Max.   :17483364                  Max.   :820450.0  \n",
       "                    NA's   :507                       NA's   :524       \n",
       " percentrecover       ratetested     ratetests         numtoday     \n",
       " Length:5412        Min.   :    25   Mode:logical   Min.   :  -4.0  \n",
       " Class :character   1st Qu.: 33416   NA's:5412      1st Qu.:   0.0  \n",
       " Mode  :character   Median : 80833                  Median :   2.0  \n",
       "                    Mean   :120899                  Mean   : 322.5  \n",
       "                    3rd Qu.:164653                  3rd Qu.: 164.0  \n",
       "                    Max.   :705178                  Max.   :8766.0  \n",
       "                    NA's   :846                                     \n",
       "  percentoday        ratetotal         ratedeaths     numdeathstoday  \n",
       " Min.   : -0.690   Min.   :   0.00   Min.   :  0.00   Min.   : -2.00  \n",
       " 1st Qu.:  0.000   1st Qu.:  25.08   1st Qu.:  0.00   1st Qu.:  0.00  \n",
       " Median :  0.290   Median :  79.49   Median :  1.54   Median :  0.00  \n",
       " Mean   :  2.969   Mean   : 381.41   Mean   : 11.33   Mean   :  8.33  \n",
       " 3rd Qu.:  1.320   3rd Qu.: 346.05   3rd Qu.: 11.46   3rd Qu.:  3.00  \n",
       " Max.   :600.000   Max.   :3369.74   Max.   :121.37   Max.   :222.00  \n",
       "                   NA's   :357       NA's   :357      NA's   :119     \n",
       "  percentdeath   numtestedtoday   numteststoday   numrecoveredtoday\n",
       " Min.   :0.000   Min.   :-20682   Mode :logical   Min.   :  -31.0  \n",
       " 1st Qu.:0.000   1st Qu.:    12   FALSE:32        1st Qu.:    0.0  \n",
       " Median :1.350   Median :   389   NA's :5380      Median :    1.0  \n",
       " Mean   :2.258   Mean   :  7129                   Mean   :  337.7  \n",
       " 3rd Qu.:3.420   3rd Qu.:  3455                   3rd Qu.:  144.2  \n",
       " Max.   :9.990   Max.   :255537                   Max.   :23853.0  \n",
       " NA's   :397     NA's   :507                      NA's   :524      \n",
       " percentactive      numactive       rateactive     numtotal_last14   \n",
       " Min.   :  0.00   Min.   :    0   Min.   :  0.00   Min.   :    -1.0  \n",
       " 1st Qu.:  1.96   1st Qu.:    3   1st Qu.:  0.58   1st Qu.:     2.0  \n",
       " Median :  8.62   Median :   73   Median :  8.43   Median :    51.5  \n",
       " Mean   : 20.75   Mean   : 4530   Mean   : 51.57   Mean   :  4630.2  \n",
       " 3rd Qu.: 23.27   3rd Qu.: 3098   3rd Qu.: 50.34   3rd Qu.:  2487.8  \n",
       " Max.   :100.00   Max.   :85549   Max.   :671.37   Max.   :109120.0  \n",
       " NA's   :397      NA's   :397     NA's   :357      NA's   :252       \n",
       " ratetotal_last14 numdeaths_last14 ratedeaths_last14 numtotal_last7 \n",
       " Min.   : -0.19   Min.   :   0.0   Min.   : 0.000    Min.   :   -1  \n",
       " 1st Qu.:  1.02   1st Qu.:   0.0   1st Qu.: 0.000    1st Qu.:    0  \n",
       " Median : 10.99   Median :   0.0   Median : 0.100    Median :   23  \n",
       " Mean   : 53.65   Mean   : 118.1   Mean   : 1.175    Mean   : 2342  \n",
       " 3rd Qu.: 51.80   3rd Qu.:  43.0   3rd Qu.: 0.980    3rd Qu.: 1240  \n",
       " Max.   :539.21   Max.   :2311.0   Max.   :17.400    Max.   :57821  \n",
       " NA's   :596      NA's   :252      NA's   :596       NA's   :252    \n",
       " ratetotal_last7   numdeaths_last7   ratedeaths_last7 avgtotal_last7  \n",
       " Min.   : -0.190   Min.   :   0.00   Min.   :0.0000   Min.   :   0.0  \n",
       " 1st Qu.:  0.310   1st Qu.:   0.00   1st Qu.:0.0000   1st Qu.:   0.0  \n",
       " Median :  5.375   Median :   0.00   Median :0.0000   Median :   3.0  \n",
       " Mean   : 27.169   Mean   :  59.49   Mean   :0.5928   Mean   : 334.6  \n",
       " 3rd Qu.: 28.922   3rd Qu.:  22.00   3rd Qu.:0.5100   3rd Qu.: 177.0  \n",
       " Max.   :284.600   Max.   :1236.00   Max.   :9.0000   Max.   :8260.0  \n",
       " NA's   :596       NA's   :252       NA's   :597      NA's   :252     \n",
       " avgincidence_last7 avgdeaths_last7   avgratedeaths_last7\n",
       " Min.   :-0.030     Min.   :  0.000   Min.   :0.0000     \n",
       " 1st Qu.: 0.040     1st Qu.:  0.000   1st Qu.:0.0000     \n",
       " Median : 0.770     Median :  0.000   Median :0.0000     \n",
       " Mean   : 3.881     Mean   :  8.483   Mean   :0.0846     \n",
       " 3rd Qu.: 4.133     3rd Qu.:  3.000   3rd Qu.:0.0700     \n",
       " Max.   :40.660     Max.   :177.000   Max.   :1.2900     \n",
       " NA's   :596        NA's   :252       NA's   :596        "
      ]
     },
     "metadata": {},
     "output_type": "display_data"
    }
   ],
   "source": [
    "summary(covid_19_data_full)"
   ]
  },
  {
   "cell_type": "markdown",
   "metadata": {},
   "source": [
    "# BC Data"
   ]
  },
  {
   "cell_type": "code",
   "execution_count": 34,
   "metadata": {},
   "outputs": [],
   "source": [
    "covid_19_data_bc <- covid_19_data_full %>% filter(prname == \"British Columbia\")"
   ]
  },
  {
   "cell_type": "code",
   "execution_count": 36,
   "metadata": {},
   "outputs": [
    {
     "data": {
      "text/html": [
       "<style>\n",
       ".list-inline {list-style: none; margin:0; padding: 0}\n",
       ".list-inline>li {display: inline-block}\n",
       ".list-inline>li:not(:last-child)::after {content: \"\\00b7\"; padding: 0 .5ex}\n",
       "</style>\n",
       "<ol class=list-inline><li>373</li><li>39</li></ol>\n"
      ],
      "text/latex": [
       "\\begin{enumerate*}\n",
       "\\item 373\n",
       "\\item 39\n",
       "\\end{enumerate*}\n"
      ],
      "text/markdown": [
       "1. 373\n",
       "2. 39\n",
       "\n",
       "\n"
      ],
      "text/plain": [
       "[1] 373  39"
      ]
     },
     "metadata": {},
     "output_type": "display_data"
    }
   ],
   "source": [
    "dim(covid_19_data_bc)"
   ]
  },
  {
   "cell_type": "markdown",
   "metadata": {},
   "source": [
    "# BC Data Deaths"
   ]
  },
  {
   "cell_type": "code",
   "execution_count": 60,
   "metadata": {},
   "outputs": [
    {
     "data": {
      "text/html": [
       "<table>\n",
       "<caption>A tibble: 6 × 2</caption>\n",
       "<thead>\n",
       "\t<tr><th scope=col>date</th><th scope=col>numdeathstoday</th></tr>\n",
       "\t<tr><th scope=col>&lt;date&gt;</th><th scope=col>&lt;dbl&gt;</th></tr>\n",
       "</thead>\n",
       "<tbody>\n",
       "\t<tr><td>2020-01-31</td><td>0</td></tr>\n",
       "\t<tr><td>2020-02-08</td><td>0</td></tr>\n",
       "\t<tr><td>2020-02-16</td><td>0</td></tr>\n",
       "\t<tr><td>2020-02-21</td><td>0</td></tr>\n",
       "\t<tr><td>2020-02-24</td><td>0</td></tr>\n",
       "\t<tr><td>2020-02-25</td><td>0</td></tr>\n",
       "</tbody>\n",
       "</table>\n"
      ],
      "text/latex": [
       "A tibble: 6 × 2\n",
       "\\begin{tabular}{ll}\n",
       " date & numdeathstoday\\\\\n",
       " <date> & <dbl>\\\\\n",
       "\\hline\n",
       "\t 2020-01-31 & 0\\\\\n",
       "\t 2020-02-08 & 0\\\\\n",
       "\t 2020-02-16 & 0\\\\\n",
       "\t 2020-02-21 & 0\\\\\n",
       "\t 2020-02-24 & 0\\\\\n",
       "\t 2020-02-25 & 0\\\\\n",
       "\\end{tabular}\n"
      ],
      "text/markdown": [
       "\n",
       "A tibble: 6 × 2\n",
       "\n",
       "| date &lt;date&gt; | numdeathstoday &lt;dbl&gt; |\n",
       "|---|---|\n",
       "| 2020-01-31 | 0 |\n",
       "| 2020-02-08 | 0 |\n",
       "| 2020-02-16 | 0 |\n",
       "| 2020-02-21 | 0 |\n",
       "| 2020-02-24 | 0 |\n",
       "| 2020-02-25 | 0 |\n",
       "\n"
      ],
      "text/plain": [
       "  date       numdeathstoday\n",
       "1 2020-01-31 0             \n",
       "2 2020-02-08 0             \n",
       "3 2020-02-16 0             \n",
       "4 2020-02-21 0             \n",
       "5 2020-02-24 0             \n",
       "6 2020-02-25 0             "
      ]
     },
     "metadata": {},
     "output_type": "display_data"
    }
   ],
   "source": [
    "covid_19_data_bc_deaths <- covid_19_data_bc %>% select(date, numdeathstoday)\n",
    "head(covid_19_data_bc_deaths)"
   ]
  },
  {
   "cell_type": "code",
   "execution_count": 78,
   "metadata": {},
   "outputs": [
    {
     "data": {
      "image/png": "[encoded data removed]",
      "text/plain": [
       "plot without title"
      ]
     },
     "metadata": {
      "image/png": {
       "height": 420,
       "width": 420
      }
     },
     "output_type": "display_data"
    }
   ],
   "source": [
    "covid_19_data_bc_deaths_plot <- ggplot(covid_19_data_bc_deaths, aes(x=date, y=numdeathstoday)) + geom_point()\n",
    "covid_19_data_bc_deaths_plot"
   ]
  },
  {
   "cell_type": "markdown",
   "metadata": {},
   "source": [
    "# BC Data Cases"
   ]
  },
  {
   "cell_type": "code",
   "execution_count": 80,
   "metadata": {},
   "outputs": [
    {
     "data": {
      "text/html": [
       "<table>\n",
       "<caption>A tibble: 6 × 2</caption>\n",
       "<thead>\n",
       "\t<tr><th scope=col>date</th><th scope=col>numtoday</th></tr>\n",
       "\t<tr><th scope=col>&lt;date&gt;</th><th scope=col>&lt;dbl&gt;</th></tr>\n",
       "</thead>\n",
       "<tbody>\n",
       "\t<tr><td>2020-01-31</td><td>1</td></tr>\n",
       "\t<tr><td>2020-02-08</td><td>3</td></tr>\n",
       "\t<tr><td>2020-02-16</td><td>1</td></tr>\n",
       "\t<tr><td>2020-02-21</td><td>1</td></tr>\n",
       "\t<tr><td>2020-02-24</td><td>0</td></tr>\n",
       "\t<tr><td>2020-02-25</td><td>1</td></tr>\n",
       "</tbody>\n",
       "</table>\n"
      ],
      "text/latex": [
       "A tibble: 6 × 2\n",
       "\\begin{tabular}{ll}\n",
       " date & numtoday\\\\\n",
       " <date> & <dbl>\\\\\n",
       "\\hline\n",
       "\t 2020-01-31 & 1\\\\\n",
       "\t 2020-02-08 & 3\\\\\n",
       "\t 2020-02-16 & 1\\\\\n",
       "\t 2020-02-21 & 1\\\\\n",
       "\t 2020-02-24 & 0\\\\\n",
       "\t 2020-02-25 & 1\\\\\n",
       "\\end{tabular}\n"
      ],
      "text/markdown": [
       "\n",
       "A tibble: 6 × 2\n",
       "\n",
       "| date &lt;date&gt; | numtoday &lt;dbl&gt; |\n",
       "|---|---|\n",
       "| 2020-01-31 | 1 |\n",
       "| 2020-02-08 | 3 |\n",
       "| 2020-02-16 | 1 |\n",
       "| 2020-02-21 | 1 |\n",
       "| 2020-02-24 | 0 |\n",
       "| 2020-02-25 | 1 |\n",
       "\n"
      ],
      "text/plain": [
       "  date       numtoday\n",
       "1 2020-01-31 1       \n",
       "2 2020-02-08 3       \n",
       "3 2020-02-16 1       \n",
       "4 2020-02-21 1       \n",
       "5 2020-02-24 0       \n",
       "6 2020-02-25 1       "
      ]
     },
     "metadata": {},
     "output_type": "display_data"
    }
   ],
   "source": [
    "covid_19_data_bc_cases <- covid_19_data_bc %>% select(date, numtoday)\n",
    "head(covid_19_data_bc_cases)"
   ]
  },
  {
   "cell_type": "code",
   "execution_count": 81,
   "metadata": {},
   "outputs": [
    {
     "data": {
      "image/png": "[encoded data removed]",
      "text/plain": [
       "plot without title"
      ]
     },
     "metadata": {
      "image/png": {
       "height": 420,
       "width": 420
      }
     },
     "output_type": "display_data"
    }
   ],
   "source": [
    "covid_19_data_bc_cases_plot <- ggplot(covid_19_data_bc_cases, aes(x=date, y=numtoday)) + \n",
    "    geom_point() +\n",
    "    xlab(\"Date\") +\n",
    "    ylab(\"Number of Cases\") \n",
    "covid_19_data_bc_cases_plot"
   ]
  },
  {
   "cell_type": "code",
   "execution_count": null,
   "metadata": {},
   "outputs": [],
   "source": []
  },
  {
   "cell_type": "code",
   "execution_count": null,
   "metadata": {},
   "outputs": [],
   "source": []
  },
  {
   "cell_type": "code",
   "execution_count": 82,
   "metadata": {},
   "outputs": [
    {
     "data": {
      "text/html": [
       "<table>\n",
       "<caption>A tibble: 6 × 2</caption>\n",
       "<thead>\n",
       "\t<tr><th scope=col>date</th><th scope=col>percentdeath</th></tr>\n",
       "\t<tr><th scope=col>&lt;date&gt;</th><th scope=col>&lt;dbl&gt;</th></tr>\n",
       "</thead>\n",
       "<tbody>\n",
       "\t<tr><td>2020-01-31</td><td>0</td></tr>\n",
       "\t<tr><td>2020-02-08</td><td>0</td></tr>\n",
       "\t<tr><td>2020-02-16</td><td>0</td></tr>\n",
       "\t<tr><td>2020-02-21</td><td>0</td></tr>\n",
       "\t<tr><td>2020-02-24</td><td>0</td></tr>\n",
       "\t<tr><td>2020-02-25</td><td>0</td></tr>\n",
       "</tbody>\n",
       "</table>\n"
      ],
      "text/latex": [
       "A tibble: 6 × 2\n",
       "\\begin{tabular}{ll}\n",
       " date & percentdeath\\\\\n",
       " <date> & <dbl>\\\\\n",
       "\\hline\n",
       "\t 2020-01-31 & 0\\\\\n",
       "\t 2020-02-08 & 0\\\\\n",
       "\t 2020-02-16 & 0\\\\\n",
       "\t 2020-02-21 & 0\\\\\n",
       "\t 2020-02-24 & 0\\\\\n",
       "\t 2020-02-25 & 0\\\\\n",
       "\\end{tabular}\n"
      ],
      "text/markdown": [
       "\n",
       "A tibble: 6 × 2\n",
       "\n",
       "| date &lt;date&gt; | percentdeath &lt;dbl&gt; |\n",
       "|---|---|\n",
       "| 2020-01-31 | 0 |\n",
       "| 2020-02-08 | 0 |\n",
       "| 2020-02-16 | 0 |\n",
       "| 2020-02-21 | 0 |\n",
       "| 2020-02-24 | 0 |\n",
       "| 2020-02-25 | 0 |\n",
       "\n"
      ],
      "text/plain": [
       "  date       percentdeath\n",
       "1 2020-01-31 0           \n",
       "2 2020-02-08 0           \n",
       "3 2020-02-16 0           \n",
       "4 2020-02-21 0           \n",
       "5 2020-02-24 0           \n",
       "6 2020-02-25 0           "
      ]
     },
     "metadata": {},
     "output_type": "display_data"
    }
   ],
   "source": [
    "covid_19_data_bc_deaths_percent <- covid_19_data_bc %>% select(date, percentdeath)\n",
    "head(covid_19_data_bc_deaths_percent)"
   ]
  },
  {
   "cell_type": "code",
   "execution_count": 88,
   "metadata": {},
   "outputs": [
    {
     "data": {
      "image/png": "[encoded data removed]",
      "text/plain": [
       "plot without title"
      ]
     },
     "metadata": {
      "image/png": {
       "height": 420,
       "width": 420
      }
     },
     "output_type": "display_data"
    }
   ],
   "source": [
    "covid_19_data_bc_deaths_percent_plot <- ggplot(covid_19_data_bc_deaths_percent, aes(x=date, y=percentdeath)) +\n",
    "    geom_point() +\n",
    "    xlab(\"Date\") +\n",
    "    ylab(\"Percentage of deaths\") \n",
    "\n",
    "covid_19_data_bc_deaths_percent_plot"
   ]
  },
  {
   "cell_type": "code",
   "execution_count": null,
   "metadata": {},
   "outputs": [],
   "source": []
  },
  {
   "cell_type": "code",
   "execution_count": null,
   "metadata": {},
   "outputs": [],
   "source": []
  },
  {
   "cell_type": "code",
   "execution_count": 95,
   "metadata": {},
   "outputs": [
    {
     "data": {
      "text/html": [
       "<table>\n",
       "<caption>A tibble: 6 × 2</caption>\n",
       "<thead>\n",
       "\t<tr><th scope=col>numtoday</th><th scope=col>numdeathstoday</th></tr>\n",
       "\t<tr><th scope=col>&lt;dbl&gt;</th><th scope=col>&lt;dbl&gt;</th></tr>\n",
       "</thead>\n",
       "<tbody>\n",
       "\t<tr><td>1</td><td>0</td></tr>\n",
       "\t<tr><td>3</td><td>0</td></tr>\n",
       "\t<tr><td>1</td><td>0</td></tr>\n",
       "\t<tr><td>1</td><td>0</td></tr>\n",
       "\t<tr><td>0</td><td>0</td></tr>\n",
       "\t<tr><td>1</td><td>0</td></tr>\n",
       "</tbody>\n",
       "</table>\n"
      ],
      "text/latex": [
       "A tibble: 6 × 2\n",
       "\\begin{tabular}{ll}\n",
       " numtoday & numdeathstoday\\\\\n",
       " <dbl> & <dbl>\\\\\n",
       "\\hline\n",
       "\t 1 & 0\\\\\n",
       "\t 3 & 0\\\\\n",
       "\t 1 & 0\\\\\n",
       "\t 1 & 0\\\\\n",
       "\t 0 & 0\\\\\n",
       "\t 1 & 0\\\\\n",
       "\\end{tabular}\n"
      ],
      "text/markdown": [
       "\n",
       "A tibble: 6 × 2\n",
       "\n",
       "| numtoday &lt;dbl&gt; | numdeathstoday &lt;dbl&gt; |\n",
       "|---|---|\n",
       "| 1 | 0 |\n",
       "| 3 | 0 |\n",
       "| 1 | 0 |\n",
       "| 1 | 0 |\n",
       "| 0 | 0 |\n",
       "| 1 | 0 |\n",
       "\n"
      ],
      "text/plain": [
       "  numtoday numdeathstoday\n",
       "1 1        0             \n",
       "2 3        0             \n",
       "3 1        0             \n",
       "4 1        0             \n",
       "5 0        0             \n",
       "6 1        0             "
      ]
     },
     "metadata": {},
     "output_type": "display_data"
    },
    {
     "data": {
      "text/html": [
       "<style>\n",
       ".list-inline {list-style: none; margin:0; padding: 0}\n",
       ".list-inline>li {display: inline-block}\n",
       ".list-inline>li:not(:last-child)::after {content: \"\\00b7\"; padding: 0 .5ex}\n",
       "</style>\n",
       "<ol class=list-inline><li>373</li><li>2</li></ol>\n"
      ],
      "text/latex": [
       "\\begin{enumerate*}\n",
       "\\item 373\n",
       "\\item 2\n",
       "\\end{enumerate*}\n"
      ],
      "text/markdown": [
       "1. 373\n",
       "2. 2\n",
       "\n",
       "\n"
      ],
      "text/plain": [
       "[1] 373   2"
      ]
     },
     "metadata": {},
     "output_type": "display_data"
    }
   ],
   "source": [
    "covid_19_data_bc_cases_deaths <- covid_19_data_bc %>% select(numtoday, numdeathstoday)\n",
    "head(covid_19_data_bc_cases_deaths)\n",
    "dim(covid_19_data_bc_cases_deaths)"
   ]
  },
  {
   "cell_type": "code",
   "execution_count": null,
   "metadata": {},
   "outputs": [],
   "source": []
  },
  {
   "cell_type": "code",
   "execution_count": null,
   "metadata": {},
   "outputs": [],
   "source": []
  },
  {
   "cell_type": "code",
   "execution_count": null,
   "metadata": {},
   "outputs": [],
   "source": []
  },
  {
   "cell_type": "markdown",
   "metadata": {},
   "source": [
    "# See Correlation Between Cases and Deaths"
   ]
  },
  {
   "cell_type": "code",
   "execution_count": 85,
   "metadata": {},
   "outputs": [
    {
     "name": "stderr",
     "output_type": "stream",
     "text": [
      "Warning message in install.packages(\"gridExtra\"):\n",
      "“installation of package ‘gridExtra’ had non-zero exit status”\n",
      "Updating HTML index of packages in '.Library'\n",
      "\n",
      "Making 'packages.html' ...\n",
      " done\n",
      "\n",
      "Warning message in install.packages(\"GGally\"):\n",
      "“installation of package ‘GGally’ had non-zero exit status”\n",
      "Updating HTML index of packages in '.Library'\n",
      "\n",
      "Making 'packages.html' ...\n",
      " done\n",
      "\n"
     ]
    }
   ],
   "source": [
    "install.packages(\"gridExtra\")\n",
    "install.packages(\"GGally\")\n",
    "library(gridExtra)\n",
    "library(GGally)"
   ]
  },
  {
   "cell_type": "code",
   "execution_count": 98,
   "metadata": {},
   "outputs": [],
   "source": [
    "ggpair_plot <- ggpairs(covid_19_data_bc_cases_deaths)"
   ]
  },
  {
   "cell_type": "code",
   "execution_count": 100,
   "metadata": {},
   "outputs": [
    {
     "data": {
      "image/png": "[encoded data removed]",
      "text/plain": [
       "plot without title"
      ]
     },
     "metadata": {
      "image/png": {
       "height": 420,
       "width": 420
      }
     },
     "output_type": "display_data"
    }
   ],
   "source": [
    "ggpair_plot"
   ]
  },
  {
   "cell_type": "code",
   "execution_count": null,
   "metadata": {},
   "outputs": [],
   "source": []
  },
  {
   "cell_type": "code",
   "execution_count": null,
   "metadata": {},
   "outputs": [],
   "source": []
  },
  {
   "cell_type": "code",
   "execution_count": null,
   "metadata": {},
   "outputs": [],
   "source": []
  },
  {
   "cell_type": "code",
   "execution_count": null,
   "metadata": {},
   "outputs": [],
   "source": []
  },
  {
   "cell_type": "code",
   "execution_count": null,
   "metadata": {},
   "outputs": [],
   "source": []
  }
 ],
 "metadata": {
  "kernelspec": {
   "display_name": "R",
   "language": "R",
   "name": "ir"
  },
  "language_info": {
   "codemirror_mode": "r",
   "file_extension": ".r",
   "mimetype": "text/x-r-source",
   "name": "R",
   "pygments_lexer": "r",
   "version": "4.0.0"
  }
 },
 "nbformat": 4,
 "nbformat_minor": 4
}
